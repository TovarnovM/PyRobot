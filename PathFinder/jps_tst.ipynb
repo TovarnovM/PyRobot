{
 "cells": [
  {
   "cell_type": "code",
   "execution_count": 1,
   "metadata": {},
   "outputs": [
    {
     "ename": "ModuleNotFoundError",
     "evalue": "No module named 'astar'",
     "traceback": [
      "\u001b[1;31m---------------------------------------------------------------------------\u001b[0m",
      "\u001b[1;31mModuleNotFoundError\u001b[0m                       Traceback (most recent call last)",
      "\u001b[1;32m<ipython-input-1-24befc66210a>\u001b[0m in \u001b[0;36m<module>\u001b[1;34m()\u001b[0m\n\u001b[0;32m      1\u001b[0m \u001b[1;32mimport\u001b[0m \u001b[0mtime\u001b[0m\u001b[1;33m\u001b[0m\u001b[0m\n\u001b[0;32m      2\u001b[0m \u001b[1;33m\u001b[0m\u001b[0m\n\u001b[1;32m----> 3\u001b[1;33m \u001b[1;32mimport\u001b[0m \u001b[0mastar\u001b[0m\u001b[1;33m\u001b[0m\u001b[0m\n\u001b[0m\u001b[0;32m      4\u001b[0m \u001b[1;32mimport\u001b[0m \u001b[0mgrid\u001b[0m\u001b[1;33m\u001b[0m\u001b[0m\n\u001b[0;32m      5\u001b[0m \u001b[1;32mimport\u001b[0m \u001b[0mjps\u001b[0m\u001b[1;33m\u001b[0m\u001b[0m\n",
      "\u001b[1;31mModuleNotFoundError\u001b[0m: No module named 'astar'"
     ],
     "output_type": "error"
    }
   ],
   "source": [
    "import time\n",
    "\n",
    "import astar\n",
    "import grid\n",
    "import jps\n",
    "import pygame\n",
    "import jps_numba\n",
    "\n",
    "# import pyximport; pyximport.install()\n",
    "import jps_c"
   ]
  },
  {
   "cell_type": "code",
   "execution_count": 2,
   "metadata": {},
   "outputs": [],
   "source": [
    "def main():\n",
    "    print('Эвристика Манхэттена:\\n1 - вызов алгоритма A*' +\n",
    "          '\\n2 - вызов алгоритма JPS\\n3 - вызов обоих методов\\n' +\n",
    "          '\\nЭвристика Евклида:\\n5 - вызов алгоритма A*' +\n",
    "          '\\n6 - вызов алгоритма JPS\\n7 - вызов обоих методов\\n' +\n",
    "          '\\nF5 - очистить сетку\\n')\n",
    "\n",
    "    while True:\n",
    "        # try:\n",
    "        #     size1 = int(input('Размер окна:\\nШирина: '))\n",
    "        #     size2 = int(input('Высота: '))\n",
    "        #     size_node = int(input('Размер узла: '))\n",
    "        #     if size1 % size_node != 0 or size2 % size_node != 0:\n",
    "        #         print('Высота и ширина должны быть кратны размеру узла\\n')\n",
    "        #     else:\n",
    "        #         break\n",
    "        # except:\n",
    "        size1, size2 = 1000, 1000\n",
    "        size_node = 5\n",
    "        break\n",
    "\n",
    "    size = (size1, size2)\n",
    "\n",
    "    pygame.init()\n",
    "    screen = pygame.display.set_mode(size)\n",
    "    running = True\n",
    "    mark_border = False\n",
    "    clear_border = False\n",
    "\n",
    "    background = pygame.Surface(size)\n",
    "    Grid = grid.Grid(size, size_node)\n",
    "    Grid.refresh(background)\n",
    "\n",
    "    while running:\n",
    "        for event in pygame.event.get():\n",
    "            if event.type == pygame.QUIT:\n",
    "                running = False\n",
    "            if event.type == pygame.MOUSEBUTTONDOWN:\n",
    "                if event.button == 1:\n",
    "                    pos = pygame.mouse.get_pos()\n",
    "                    if Grid.matrix[pos[1] // size_node][pos[0] // size_node] == 0:\n",
    "                        mark_border = True\n",
    "                    else:\n",
    "                        clear_border = True\n",
    "                elif event.button == 3:\n",
    "                    Grid.mark_node(pygame.mouse.get_pos(), background)\n",
    "            if (event.type == pygame.MOUSEBUTTONUP and\n",
    "                    event.button == 1):\n",
    "                mark_border = False\n",
    "                clear_border = False\n",
    "            if event.type == pygame.KEYDOWN:\n",
    "                if event.key == pygame.K_F5:\n",
    "                    Grid.refresh(background)\n",
    "                if event.key == pygame.K_1:\n",
    "                    Grid.lightrefresh(background)\n",
    "                    Grid.drawpath(astar.method(Grid.matrix, Grid.start, Grid.goal, 1),\n",
    "                                  background, 1)\n",
    "                if event.key == pygame.K_2:\n",
    "                    Grid.lightrefresh(background)\n",
    "                    Grid.drawpath(jps.method(Grid.matrix, Grid.start, Grid.goal, 1),\n",
    "                                  background, 2)\n",
    "                if event.key == pygame.K_3:\n",
    "                    Grid.lightrefresh(background)\n",
    "                    Grid.drawpath(astar.method(Grid.matrix, Grid.start, Grid.goal, 1),\n",
    "                                  background, 1)\n",
    "                    Grid.drawpath(jps.method(Grid.matrix, Grid.start, Grid.goal, 1),\n",
    "                                  background, 2)\n",
    "                if event.key == pygame.K_5:\n",
    "                    Grid.lightrefresh(background)\n",
    "                    Grid.drawpath(astar.method(Grid.matrix, Grid.start, Grid.goal, 2),\n",
    "                                  background, 1)\n",
    "                if event.key == pygame.K_6:\n",
    "                    Grid.lightrefresh(background)\n",
    "                    Grid.drawpath(jps.method(Grid.matrix, Grid.start, Grid.goal, 2),\n",
    "                                  background, 2)\n",
    "                if event.key == pygame.K_7:\n",
    "                    m = Grid.matrix\n",
    "                    Grid.lightrefresh(background)\n",
    "                    # Grid.drawpath(astar.method(Grid.matrix, Grid.start, Grid.goal, 2),\n",
    "                    #               background, 1)\n",
    "                    Grid.drawpath(jps.method(Grid.matrix, Grid.start, Grid.goal, 1),\n",
    "                                  background, 2)\n",
    "                    Grid.drawpath(jps_numba.method(Grid.matrix, Grid.start, Grid.goal, 2),\n",
    "                                  background, 3)\n",
    "                    st = time.time()\n",
    "                    p = jps_c.method(Grid.matrix, Grid.start, Grid.goal, 2)\n",
    "                    Grid.drawpath((p, round(time.time() - st, 6)),\n",
    "                                  background, 4)\n",
    "        screen.blit(background, (0, 0))\n",
    "        pygame.display.update()\n",
    "\n",
    "        if mark_border:\n",
    "            Grid.mark_border(pygame.mouse.get_pos(), background)\n",
    "        if clear_border:\n",
    "            Grid.clear_border(pygame.mouse.get_pos(), background)\n",
    "\n",
    "    pygame.quit()\n",
    "    return Grid"
   ]
  },
  {
   "cell_type": "code",
   "execution_count": 3,
   "metadata": {},
   "outputs": [
    {
     "name": "stdout",
     "output_type": "stream",
     "text": [
      "Эвристика Манхэттена:\n",
      "1 - вызов алгоритма A*\n",
      "2 - вызов алгоритма JPS\n",
      "3 - вызов обоих методов\n",
      "\n",
      "Эвристика Евклида:\n",
      "5 - вызов алгоритма A*\n",
      "6 - вызов алгоритма JPS\n",
      "7 - вызов обоих методов\n",
      "\n",
      "F5 - очистить сетку\n",
      "\n",
      "17324.0\n",
      "17324.0\n"
     ]
    }
   ],
   "source": [
    "g = main()"
   ]
  },
  {
   "cell_type": "code",
   "execution_count": 5,
   "metadata": {},
   "outputs": [
    {
     "name": "stdout",
     "output_type": "stream",
     "text": [
      "2.69 ms ± 26.1 µs per loop (mean ± std. dev. of 7 runs, 100 loops each)\n",
      "2.71 ms ± 45.8 µs per loop (mean ± std. dev. of 7 runs, 100 loops each)\n"
     ]
    }
   ],
   "source": [
    "%timeit jps_c.method(g.matrix, g.start, g.goal, 2)\n",
    "%timeit jps_c.method(g.matrix, g.start, g.goal, 1)"
   ]
  },
  {
   "cell_type": "code",
   "execution_count": 6,
   "metadata": {},
   "outputs": [
    {
     "name": "stdout",
     "output_type": "stream",
     "text": [
      "1740.3738084913084\n",
      "1740.3738084913084\n",
      "1740.3738084913084\n",
      "1740.3738084913084\n",
      "1740.3738084913084\n",
      "1740.3738084913084\n",
      "1740.3738084913084\n",
      "1740.3738084913084\n",
      "232 ms ± 4.65 ms per loop (mean ± std. dev. of 7 runs, 1 loop each)\n",
      "17324.0\n",
      "17324.0\n",
      "17324.0\n",
      "17324.0\n",
      "17324.0\n",
      "17324.0\n",
      "17324.0\n",
      "17324.0\n",
      "234 ms ± 3.96 ms per loop (mean ± std. dev. of 7 runs, 1 loop each)\n"
     ]
    }
   ],
   "source": [
    "%timeit jps.method(g.matrix, g.start, g.goal, 2)\n",
    "%timeit jps.method(g.matrix, g.start, g.goal, 1)"
   ]
  },
  {
   "cell_type": "code",
   "execution_count": 7,
   "metadata": {},
   "outputs": [
    {
     "name": "stdout",
     "output_type": "stream",
     "text": [
      "166 ms ± 1.96 ms per loop (mean ± std. dev. of 7 runs, 10 loops each)\n",
      "163 ms ± 1.1 ms per loop (mean ± std. dev. of 7 runs, 10 loops each)\n"
     ]
    }
   ],
   "source": [
    "%timeit jps_numba.method(g.matrix, g.start, g.goal, 2)\n",
    "%timeit jps_numba.method(g.matrix, g.start, g.goal, 1)"
   ]
  },
  {
   "cell_type": "code",
   "execution_count": 8,
   "metadata": {},
   "outputs": [],
   "source": [
    "import numpy as np"
   ]
  },
  {
   "cell_type": "code",
   "execution_count": 10,
   "metadata": {},
   "outputs": [],
   "source": [
    "np.save('map.txt', g.matrix)"
   ]
  },
  {
   "cell_type": "code",
   "execution_count": 12,
   "metadata": {},
   "outputs": [],
   "source": [
    "g.matrix = np.load('map.txt.npy')"
   ]
  },
  {
   "cell_type": "code",
   "execution_count": 14,
   "metadata": {},
   "outputs": [
    {
     "name": "stdout",
     "output_type": "stream",
     "text": [
      "2.7 ms ± 76.4 µs per loop (mean ± std. dev. of 7 runs, 100 loops each)\n",
      "2.69 ms ± 29.5 µs per loop (mean ± std. dev. of 7 runs, 100 loops each)\n"
     ]
    }
   ],
   "source": [
    "%timeit jps_c.method(g.matrix, g.start, g.goal, 2)\n",
    "%timeit jps_c.method(g.matrix, g.start, g.goal, 1)"
   ]
  }
 ],
 "metadata": {
  "kernelspec": {
   "display_name": "Python 3",
   "language": "python",
   "name": "python3"
  },
  "language_info": {
   "codemirror_mode": {
    "name": "ipython",
    "version": 3
   },
   "file_extension": ".py",
   "mimetype": "text/x-python",
   "name": "python",
   "nbconvert_exporter": "python",
   "pygments_lexer": "ipython3",
   "version": "3.6.5"
  }
 },
 "nbformat": 4,
 "nbformat_minor": 2
}
